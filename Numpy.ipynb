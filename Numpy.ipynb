{
 "cells": [
  {
   "cell_type": "code",
   "execution_count": 1,
   "id": "95ac57fc-4b9b-46d1-956b-a84e69557064",
   "metadata": {},
   "outputs": [
    {
     "name": "stdout",
     "output_type": "stream",
     "text": [
      "numpy imported\n"
     ]
    }
   ],
   "source": []
  },
  {
   "cell_type": "code",
   "execution_count": null,
   "id": "511238a4-e055-4a4c-b944-485039fa5891",
   "metadata": {},
   "outputs": [],
   "source": [
    "#!pip install numpy "
   ]
  },
  {
   "cell_type": "code",
   "execution_count": 2,
   "id": "3bc4e483-d522-4d91-9694-c48b6af95193",
   "metadata": {},
   "outputs": [
    {
     "name": "stdout",
     "output_type": "stream",
     "text": [
      "numpy imported\n"
     ]
    }
   ],
   "source": [
    "import numpy as np\n",
    "print(\"numpy imported\")"
   ]
  },
  {
   "cell_type": "code",
   "execution_count": 3,
   "id": "a9c7529f-48d4-4219-bc52-8315761b4ae2",
   "metadata": {},
   "outputs": [
    {
     "data": {
      "text/plain": [
       "array([ 25,  14,  36,  96,  85,  74,  41,  52, 636, 545,  55])"
      ]
     },
     "execution_count": 3,
     "metadata": {},
     "output_type": "execute_result"
    }
   ],
   "source": [
    "## Array creation \n",
    "ls = [25,14,36,96,85,74,41,52,636,545,55]\n",
    "arr = np.array(ls)\n",
    "arr "
   ]
  },
  {
   "cell_type": "code",
   "execution_count": 4,
   "id": "fd731ce3-b748-4168-9c61-fce03b9666f5",
   "metadata": {},
   "outputs": [
    {
     "data": {
      "text/plain": [
       "numpy.ndarray"
      ]
     },
     "execution_count": 4,
     "metadata": {},
     "output_type": "execute_result"
    }
   ],
   "source": [
    "type(arr)\n",
    "#nd n dimensional array "
   ]
  },
  {
   "cell_type": "code",
   "execution_count": 5,
   "id": "39c51d0c-1507-4e79-b67c-bc16e9f7a23a",
   "metadata": {},
   "outputs": [
    {
     "data": {
      "text/plain": [
       "[25, 'upflairs', True, 52.36]"
      ]
     },
     "execution_count": 5,
     "metadata": {},
     "output_type": "execute_result"
    }
   ],
   "source": [
    "ls2 = [25,'upflairs',True,52.36]\n",
    "ls2 "
   ]
  },
  {
   "cell_type": "code",
   "execution_count": 6,
   "id": "b46f0394-5723-40c0-82db-711bfa95c889",
   "metadata": {},
   "outputs": [
    {
     "data": {
      "text/plain": [
       "array([ 25.  ,  14.  ,  36.  ,  96.  ,  85.  ,  74.  ,  41.  ,  52.  ,\n",
       "       636.  , 545.  ,  55.  , 100.25])"
      ]
     },
     "execution_count": 6,
     "metadata": {},
     "output_type": "execute_result"
    }
   ],
   "source": [
    "## Array creation \n",
    "ls = [25,14,36,96,85,74,41,52,636,545,55,100.25]\n",
    "arr = np.array(ls)\n",
    "arr "
   ]
  },
  {
   "cell_type": "code",
   "execution_count": 7,
   "id": "6a8eb73b-6d16-4d51-9fd4-8b81f0be745e",
   "metadata": {},
   "outputs": [
    {
     "data": {
      "text/plain": [
       "array(['25', '14', '36', '96', '85', '74', '41', '52', '636', '545', '55',\n",
       "       'upflairs'], dtype='<U11')"
      ]
     },
     "execution_count": 7,
     "metadata": {},
     "output_type": "execute_result"
    }
   ],
   "source": [
    "## Array creation \n",
    "ls = [25,14,36,96,85,74,41,52,636,545,55,'upflairs']\n",
    "arr = np.array(ls)\n",
    "arr "
   ]
  },
  {
   "cell_type": "code",
   "execution_count": 20,
   "id": "3ca93382-e3f9-4fed-a2fe-1db5470f6b42",
   "metadata": {},
   "outputs": [
    {
     "data": {
      "text/plain": [
       "array([ 25,  14,  36,  96,  85,  74,  41,  52, 636, 545,  55, 251])"
      ]
     },
     "execution_count": 20,
     "metadata": {},
     "output_type": "execute_result"
    }
   ],
   "source": [
    "## Array creation \n",
    "ls = [25,14,36,96,85,74,41,52,636,545,55,251]  ## reverse print \n",
    "arr = np.array(ls,)\n",
    "arr "
   ]
  },
  {
   "cell_type": "code",
   "execution_count": 11,
   "id": "56d554df-f126-4daa-9429-767825e6beef",
   "metadata": {},
   "outputs": [
    {
     "data": {
      "text/plain": [
       "11"
      ]
     },
     "execution_count": 11,
     "metadata": {},
     "output_type": "execute_result"
    }
   ],
   "source": [
    "len(arr)"
   ]
  },
  {
   "cell_type": "code",
   "execution_count": 12,
   "id": "d7a9f16b-f623-4b61-8ba9-a31cebd49aab",
   "metadata": {},
   "outputs": [
    {
     "data": {
      "text/plain": [
       "11"
      ]
     },
     "execution_count": 12,
     "metadata": {},
     "output_type": "execute_result"
    }
   ],
   "source": [
    "arr.size   # or len(arr)"
   ]
  },
  {
   "cell_type": "code",
   "execution_count": 17,
   "id": "9c0294bb-e68c-4a10-8d36-4df822507ccc",
   "metadata": {},
   "outputs": [
    {
     "data": {
      "text/plain": [
       "dtype('<U32')"
      ]
     },
     "execution_count": 17,
     "metadata": {},
     "output_type": "execute_result"
    }
   ],
   "source": [
    "# int arr[10] = {1,2,3,45,6,9,85,}; \n",
    "arr.dtype"
   ]
  },
  {
   "cell_type": "code",
   "execution_count": 23,
   "id": "df2e9053-05f5-429e-b93a-23e402491dd9",
   "metadata": {},
   "outputs": [
    {
     "data": {
      "text/plain": [
       "array([ 14,  36,  96,  85,  74,  41,  52, 636, 545,  55, 251])"
      ]
     },
     "execution_count": 23,
     "metadata": {},
     "output_type": "execute_result"
    }
   ],
   "source": [
    "arr[1:] \n",
    "# positive and negative "
   ]
  },
  {
   "cell_type": "code",
   "execution_count": 25,
   "id": "17cb5255-b1a6-4ec7-a406-6f8a8cac37e8",
   "metadata": {},
   "outputs": [
    {
     "data": {
      "text/plain": [
       "array([ 1,  2,  3,  4,  5,  6,  7,  8,  9, 10, 11, 12, 13, 14, 15, 16, 17,\n",
       "       18, 19, 20, 21, 22, 23, 24, 25, 26, 27, 28, 29, 30, 31, 32, 33, 34,\n",
       "       35, 36, 37, 38, 39, 40, 41, 42, 43, 44, 45, 46, 47, 48, 49, 50, 51,\n",
       "       52, 53, 54, 55, 56, 57, 58, 59])"
      ]
     },
     "execution_count": 25,
     "metadata": {},
     "output_type": "execute_result"
    }
   ],
   "source": [
    "np.arange(1,60) "
   ]
  },
  {
   "cell_type": "code",
   "execution_count": 27,
   "id": "65dc1929-f8f4-4ba4-b0c5-5861b8de2e5b",
   "metadata": {},
   "outputs": [],
   "source": [
    "import numpy  as np "
   ]
  },
  {
   "cell_type": "code",
   "execution_count": 29,
   "id": "a0e96a55-c750-4919-baac-584cdb732b90",
   "metadata": {},
   "outputs": [
    {
     "data": {
      "text/plain": [
       "array([ 0,  1,  2,  3,  4,  5,  6,  7,  8,  9, 10, 11, 12, 13, 14, 15, 16,\n",
       "       17, 18, 19, 20, 21, 22, 23, 24, 25, 26, 27, 28, 29, 30, 31, 32, 33,\n",
       "       34, 35, 36, 37, 38, 39, 40, 41, 42, 43, 44, 45, 46, 47, 48, 49, 50,\n",
       "       51, 52, 53, 54, 55, 56, 57, 58, 59])"
      ]
     },
     "execution_count": 29,
     "metadata": {},
     "output_type": "execute_result"
    }
   ],
   "source": [
    "arr2= np.arange(60) \n",
    "arr2 "
   ]
  },
  {
   "cell_type": "code",
   "execution_count": 31,
   "id": "2e857d52-daf1-45fa-b05e-70702cb930c9",
   "metadata": {},
   "outputs": [
    {
     "data": {
      "text/plain": [
       "array([  0,   2,   4,   6,   8,  10,  12,  14,  16,  18,  20,  22,  24,\n",
       "        26,  28,  30,  32,  34,  36,  38,  40,  42,  44,  46,  48,  50,\n",
       "        52,  54,  56,  58,  60,  62,  64,  66,  68,  70,  72,  74,  76,\n",
       "        78,  80,  82,  84,  86,  88,  90,  92,  94,  96,  98, 100])"
      ]
     },
     "execution_count": 31,
     "metadata": {},
     "output_type": "execute_result"
    }
   ],
   "source": [
    "arr2= np.arange(0,101,2)    # range(starting, stoping , jump )\n",
    "arr2"
   ]
  },
  {
   "cell_type": "code",
   "execution_count": 32,
   "id": "d5ae35ab-751c-40b1-89a8-a0f3c84c8642",
   "metadata": {},
   "outputs": [
    {
     "data": {
      "text/plain": [
       "51"
      ]
     },
     "execution_count": 32,
     "metadata": {},
     "output_type": "execute_result"
    }
   ],
   "source": [
    "len(arr2)"
   ]
  },
  {
   "cell_type": "code",
   "execution_count": 33,
   "id": "a11f3d23-344b-4a84-a3b7-976e25baa4be",
   "metadata": {},
   "outputs": [
    {
     "data": {
      "text/plain": [
       "array([1., 1., 1., 1., 1., 1., 1., 1., 1., 1.])"
      ]
     },
     "execution_count": 33,
     "metadata": {},
     "output_type": "execute_result"
    }
   ],
   "source": [
    "np.ones(10)"
   ]
  },
  {
   "cell_type": "code",
   "execution_count": 34,
   "id": "5540fb01-3462-461d-9527-e2774e40a6c3",
   "metadata": {},
   "outputs": [
    {
     "data": {
      "text/plain": [
       "array([0., 0., 0., 0., 0., 0., 0., 0., 0., 0.])"
      ]
     },
     "execution_count": 34,
     "metadata": {},
     "output_type": "execute_result"
    }
   ],
   "source": [
    "np.zeros(10)"
   ]
  },
  {
   "cell_type": "code",
   "execution_count": 39,
   "id": "f2147b00-3193-4897-a8a2-4ddbd1a4e2bd",
   "metadata": {},
   "outputs": [
    {
     "data": {
      "text/plain": [
       "array([ 1.        ,  3.57894737,  6.15789474,  8.73684211, 11.31578947,\n",
       "       13.89473684, 16.47368421, 19.05263158, 21.63157895, 24.21052632,\n",
       "       26.78947368, 29.36842105, 31.94736842, 34.52631579, 37.10526316,\n",
       "       39.68421053, 42.26315789, 44.84210526, 47.42105263, 50.        ])"
      ]
     },
     "execution_count": 39,
     "metadata": {},
     "output_type": "execute_result"
    }
   ],
   "source": [
    "np.linspace(1,50,20)   # in between 1 to  50 , item 20"
   ]
  },
  {
   "cell_type": "code",
   "execution_count": 40,
   "id": "e80bab85-f547-4931-a224-05c47da113fd",
   "metadata": {},
   "outputs": [
    {
     "data": {
      "text/plain": [
       "array([125, 249, 185, 166, 277,  35, 100, 203, 237, 151, 289,  32,  48,\n",
       "        26, 276,  41, 147,  55, 246,  10, 164, 178,  15, 152, 108, 263,\n",
       "       132, 219, 169, 180, 247, 202, 109, 218, 124,  97, 104,   8, 221,\n",
       "        78, 203, 103, 127, 155, 138, 279, 138,  31, 135, 196, 171,  78,\n",
       "        76,  70,  73, 261, 245, 146,  30, 290, 166,  44, 210, 110,  40,\n",
       "       135,  59, 135, 130, 209, 149, 298, 221, 231, 260, 171, 257, 255,\n",
       "       218, 276, 257, 289, 253, 124, 104,  78, 150, 246,  32,  29, 246,\n",
       "       234, 180, 235,  24, 135, 214,  31, 235, 153, 126,   8, 151,  47,\n",
       "       257,  70,   6, 134,  61,  89, 292, 206,  55, 163,  10, 136, 228,\n",
       "       181, 254,  25,  26, 293, 155, 154,  69, 165, 198, 215,  95, 178,\n",
       "       259, 190, 276, 267,  40,  20, 112, 169, 195,  22,   4, 222, 270,\n",
       "       278, 262, 170, 240, 187, 245, 281,  13, 276, 278, 252, 190, 280,\n",
       "       146, 153,  19,  61, 136, 231,  68, 195, 183,  83, 131, 177, 171,\n",
       "       120,  58,  29, 154, 229, 164,  28,  43,   5,  52,  96, 256, 191,\n",
       "       252, 123, 285, 281,  22, 271, 141, 290,   3, 209, 247, 191, 234,\n",
       "       140, 243, 289,  76, 266,  93,  39,  34, 108, 189, 261, 224, 228,\n",
       "        33, 127, 228, 193, 134, 252, 242, 179, 106,  21, 183, 201,   4,\n",
       "        35,   6, 270,  50, 257, 294,  39,  68,  38, 169, 232,  33, 295,\n",
       "       183, 185, 155,  99, 293,  15, 254, 282, 207, 271, 250, 185, 175,\n",
       "        95, 170, 194, 221, 127, 159, 210,  75,  58,  54,  99, 269, 287,\n",
       "       232, 295,  31,  64, 117, 119, 201, 251, 196,   3,  78, 286,   8,\n",
       "        90,   5,  26, 254,  23, 145, 139,  86, 206, 228,  65,   2, 251,\n",
       "       159,  20, 178, 236, 264,  49, 259, 181, 265,  11, 250,  64,  97,\n",
       "        91,  70, 203, 199, 143, 130,  87, 238,  27, 287, 231,  35,  55,\n",
       "       198, 147, 229, 115,  26, 190, 173, 208,  25, 111,   3, 235, 222,\n",
       "        86,  12, 272,  29, 112, 135,  19, 150, 224, 282, 255, 259,  30,\n",
       "       157, 126, 106, 184, 149, 209,  59,  90,  20,  40,  27, 266,  34,\n",
       "       184,  97, 186, 186, 177, 147, 237, 213, 192, 232, 136, 231, 149,\n",
       "       297, 210, 224, 188, 242,  35, 190, 219, 268, 171, 254, 171,  48,\n",
       "       174, 294, 209, 193,  81, 101, 216, 101,  81, 117,   5,  67, 132,\n",
       "        72,  15, 198, 245, 186, 122, 178,  56, 270,  88,  17, 253,  41,\n",
       "        12,  66, 178, 211, 111,  26, 123, 118, 205, 179, 222, 240,  92,\n",
       "       215, 280, 105, 163,  65, 178,  95, 223, 154,  31, 155, 141, 104,\n",
       "       133, 201,  69,  76,  88,  71, 100,  18, 293, 108, 168, 258, 272,\n",
       "        83, 239,  53,  87, 288, 134, 195, 170,  40, 140, 232, 280,  25,\n",
       "       120, 264, 185, 230, 130, 196,  51, 110,  58, 233, 135, 249, 234,\n",
       "       128, 163, 255, 138,  41,  54, 241,  78,  51,  60, 136, 273, 120,\n",
       "        84, 201,  85, 231, 218, 211, 270, 199, 108, 220, 272, 116,  47,\n",
       "       135,  57, 248, 235, 296, 116])"
      ]
     },
     "execution_count": 40,
     "metadata": {},
     "output_type": "execute_result"
    }
   ],
   "source": [
    "arr = np.random.randint(1,300,500)    # in between 1 - 300 items ==> 500 \n",
    "arr "
   ]
  },
  {
   "cell_type": "code",
   "execution_count": 41,
   "id": "0838009e-a71c-498b-950b-2415ccc7707c",
   "metadata": {},
   "outputs": [
    {
     "data": {
      "text/plain": [
       "500"
      ]
     },
     "execution_count": 41,
     "metadata": {},
     "output_type": "execute_result"
    }
   ],
   "source": [
    "arr.size "
   ]
  },
  {
   "cell_type": "code",
   "execution_count": 46,
   "id": "829ecacf-9699-42ca-b833-efb5ed0ca74a",
   "metadata": {},
   "outputs": [
    {
     "name": "stdout",
     "output_type": "stream",
     "text": [
      "35\n",
      "32\n",
      "48\n",
      "26\n",
      "41\n",
      "55\n",
      "10\n",
      "15\n",
      "8\n",
      "31\n",
      "70\n",
      "30\n",
      "44\n",
      "40\n",
      "59\n",
      "32\n",
      "29\n",
      "24\n",
      "31\n",
      "8\n",
      "47\n",
      "70\n",
      "6\n",
      "61\n",
      "55\n",
      "10\n",
      "25\n",
      "26\n",
      "69\n",
      "40\n",
      "20\n",
      "22\n",
      "4\n",
      "13\n",
      "19\n",
      "61\n",
      "68\n",
      "58\n",
      "29\n",
      "28\n",
      "43\n",
      "5\n",
      "52\n",
      "22\n",
      "3\n",
      "39\n",
      "34\n",
      "33\n",
      "21\n",
      "4\n",
      "35\n",
      "6\n",
      "50\n",
      "39\n",
      "68\n",
      "38\n",
      "33\n",
      "15\n",
      "58\n",
      "54\n",
      "31\n",
      "64\n",
      "3\n",
      "8\n",
      "5\n",
      "26\n",
      "23\n",
      "65\n",
      "2\n",
      "20\n",
      "49\n",
      "11\n",
      "64\n",
      "70\n",
      "27\n",
      "35\n",
      "55\n",
      "26\n",
      "25\n",
      "3\n",
      "12\n",
      "29\n",
      "19\n",
      "30\n",
      "59\n",
      "20\n",
      "40\n",
      "27\n",
      "34\n",
      "35\n",
      "48\n",
      "5\n",
      "67\n",
      "15\n",
      "56\n",
      "17\n",
      "41\n",
      "12\n",
      "66\n",
      "26\n",
      "65\n",
      "31\n",
      "69\n",
      "18\n",
      "53\n",
      "40\n",
      "25\n",
      "51\n",
      "58\n",
      "41\n",
      "54\n",
      "51\n",
      "60\n",
      "47\n",
      "57\n",
      "No of Item :  115\n"
     ]
    }
   ],
   "source": [
    "\n",
    "\n",
    "# filter all items that are less than or equal too   70 \n",
    "# how many items are present in your array. \n",
    "\n",
    "count = 0 \n",
    "for item in arr:\n",
    "    if item <=70:\n",
    "        print(item)\n",
    "        count = count + 1 \n",
    "\n",
    "print(\"No of Item : \",count)"
   ]
  },
  {
   "cell_type": "code",
   "execution_count": 48,
   "id": "dbb1fffa-ad1e-4a84-9857-a9abd48bdbd0",
   "metadata": {},
   "outputs": [
    {
     "data": {
      "text/plain": [
       "array([35, 32, 48, 26, 41, 55, 10, 15,  8, 31, 70, 30, 44, 40, 59, 32, 29,\n",
       "       24, 31,  8, 47, 70,  6, 61, 55, 10, 25, 26, 69, 40, 20, 22,  4, 13,\n",
       "       19, 61, 68, 58, 29, 28, 43,  5, 52, 22,  3, 39, 34, 33, 21,  4, 35,\n",
       "        6, 50, 39, 68, 38, 33, 15, 58, 54, 31, 64,  3,  8,  5, 26, 23, 65,\n",
       "        2, 20, 49, 11, 64, 70, 27, 35, 55, 26, 25,  3, 12, 29, 19, 30, 59,\n",
       "       20, 40, 27, 34, 35, 48,  5, 67, 15, 56, 17, 41, 12, 66, 26, 65, 31,\n",
       "       69, 18, 53, 40, 25, 51, 58, 41, 54, 51, 60, 47, 57])"
      ]
     },
     "execution_count": 48,
     "metadata": {},
     "output_type": "execute_result"
    }
   ],
   "source": [
    "arr[arr<=70]"
   ]
  },
  {
   "cell_type": "code",
   "execution_count": 49,
   "id": "424b9fe8-3227-4681-81e3-9b143be12065",
   "metadata": {},
   "outputs": [
    {
     "data": {
      "text/plain": [
       "115"
      ]
     },
     "execution_count": 49,
     "metadata": {},
     "output_type": "execute_result"
    }
   ],
   "source": [
    "arr[arr<=70].size\n"
   ]
  },
  {
   "cell_type": "code",
   "execution_count": 6,
   "id": "2e558bdd-c41f-4ef5-af73-d292d1daa4de",
   "metadata": {},
   "outputs": [
    {
     "data": {
      "text/plain": [
       "1"
      ]
     },
     "execution_count": 6,
     "metadata": {},
     "output_type": "execute_result"
    }
   ],
   "source": [
    "arr.ndim "
   ]
  },
  {
   "cell_type": "code",
   "execution_count": 8,
   "id": "bd72eead-c3a3-4e7b-a06b-1f363c7e6334",
   "metadata": {},
   "outputs": [
    {
     "data": {
      "text/plain": [
       "array([ 25,  14,  36,  96,  85,  74,  41,  52, 636, 545,  55])"
      ]
     },
     "execution_count": 8,
     "metadata": {},
     "output_type": "execute_result"
    }
   ],
   "source": [
    "# 2D async\n",
    "arr "
   ]
  },
  {
   "cell_type": "code",
   "execution_count": 11,
   "id": "fe5b2815-45f4-47f4-b8f0-d029f835abb8",
   "metadata": {},
   "outputs": [
    {
     "data": {
      "text/plain": [
       "list"
      ]
     },
     "execution_count": 11,
     "metadata": {},
     "output_type": "execute_result"
    }
   ],
   "source": [
    "#2D [1D,1D,1D,1D]\n",
    "\n"
   ]
  },
  {
   "cell_type": "code",
   "execution_count": 10,
   "id": "78805446-1ae7-4130-9bf4-364569188905",
   "metadata": {},
   "outputs": [],
   "source": [
    "import numpy as np "
   ]
  },
  {
   "cell_type": "code",
   "execution_count": 13,
   "id": "44d62bba-b6b5-49b4-9c3e-1cf7fb103612",
   "metadata": {},
   "outputs": [
    {
     "data": {
      "text/plain": [
       "list"
      ]
     },
     "execution_count": 13,
     "metadata": {},
     "output_type": "execute_result"
    }
   ],
   "source": [
    "lst = [[1,2,3],[4,5,6],[7,8,9]]\n",
    "type(lst)"
   ]
  },
  {
   "cell_type": "code",
   "execution_count": 12,
   "id": "5bd0d46d-20fd-4878-ac2f-7522e4c6d47b",
   "metadata": {},
   "outputs": [
    {
     "data": {
      "text/plain": [
       "array([[1, 2, 3],\n",
       "       [4, 5, 6],\n",
       "       [7, 8, 9]])"
      ]
     },
     "execution_count": 12,
     "metadata": {},
     "output_type": "execute_result"
    }
   ],
   "source": [
    "arr = np.array(lst)\n",
    "arr "
   ]
  },
  {
   "cell_type": "code",
   "execution_count": 14,
   "id": "6925350e-652a-4b63-b47b-3cee24e49e9e",
   "metadata": {},
   "outputs": [
    {
     "data": {
      "text/plain": [
       "(3, 3)"
      ]
     },
     "execution_count": 14,
     "metadata": {},
     "output_type": "execute_result"
    }
   ],
   "source": [
    "arr.shape \n",
    "# (row,column)"
   ]
  },
  {
   "cell_type": "code",
   "execution_count": 15,
   "id": "eea366e8-05ae-406b-a92b-346d156e00dc",
   "metadata": {},
   "outputs": [
    {
     "data": {
      "text/plain": [
       "2"
      ]
     },
     "execution_count": 15,
     "metadata": {},
     "output_type": "execute_result"
    }
   ],
   "source": [
    "arr.ndim    # "
   ]
  },
  {
   "cell_type": "code",
   "execution_count": 16,
   "id": "0b9b8776-0691-4baa-847f-3ddcf1391252",
   "metadata": {},
   "outputs": [
    {
     "data": {
      "text/plain": [
       "array([7, 8, 9])"
      ]
     },
     "execution_count": 16,
     "metadata": {},
     "output_type": "execute_result"
    }
   ],
   "source": [
    "arr[2]  # row single"
   ]
  },
  {
   "cell_type": "code",
   "execution_count": 17,
   "id": "e9f96f20-3dc3-4b3a-8cd2-600e5b0f40e1",
   "metadata": {},
   "outputs": [
    {
     "data": {
      "text/plain": [
       "array([[1, 2, 3],\n",
       "       [4, 5, 6]])"
      ]
     },
     "execution_count": 17,
     "metadata": {},
     "output_type": "execute_result"
    }
   ],
   "source": [
    "arr[0:2]   # multiple row "
   ]
  },
  {
   "cell_type": "code",
   "execution_count": 22,
   "id": "7e6733b2-6d9c-49bf-871c-dbc714af89cd",
   "metadata": {},
   "outputs": [
    {
     "data": {
      "text/plain": [
       "array([[5, 6],\n",
       "       [8, 9]])"
      ]
     },
     "execution_count": 22,
     "metadata": {},
     "output_type": "execute_result"
    }
   ],
   "source": [
    "arr[1:3,1:3]"
   ]
  },
  {
   "cell_type": "code",
   "execution_count": 23,
   "id": "f329905a-4665-46ad-8f3a-40dbe1831e7a",
   "metadata": {},
   "outputs": [
    {
     "data": {
      "text/plain": [
       "array([[132,  89,  15,   4,  17, 186],\n",
       "       [191, 179,  74, 136, 173,  56],\n",
       "       [122,  76,  88,  34,  86,  76],\n",
       "       [ 80, 134,  41, 189,  64,  13],\n",
       "       [ 58,  91, 167, 116,  47, 142],\n",
       "       [ 25, 139,  64, 193, 193,  99],\n",
       "       [ 85,  23,  43, 141,  52,  56],\n",
       "       [181, 184, 129, 107, 192,  97],\n",
       "       [180, 106, 164, 145, 176, 149],\n",
       "       [133, 180, 177, 152, 127, 197]])"
      ]
     },
     "execution_count": 23,
     "metadata": {},
     "output_type": "execute_result"
    }
   ],
   "source": [
    "arr2 = np.random.randint(1,200,(10,6))\n",
    "arr2 "
   ]
  },
  {
   "cell_type": "code",
   "execution_count": 24,
   "id": "36099630-5131-47d3-badd-ca2550388ade",
   "metadata": {},
   "outputs": [
    {
     "data": {
      "text/plain": [
       "array([[116,  47, 142],\n",
       "       [193, 193,  99],\n",
       "       [141,  52,  56],\n",
       "       [107, 192,  97],\n",
       "       [145, 176, 149]])"
      ]
     },
     "execution_count": 24,
     "metadata": {},
     "output_type": "execute_result"
    }
   ],
   "source": [
    "arr2[-6:-1,-3:]"
   ]
  },
  {
   "cell_type": "code",
   "execution_count": 27,
   "id": "d82c78c6-2794-47b2-b8b0-f77429194d30",
   "metadata": {},
   "outputs": [
    {
     "data": {
      "text/plain": [
       "array([[133, 180, 177, 152, 127, 197],\n",
       "       [180, 106, 164, 145, 176, 149],\n",
       "       [181, 184, 129, 107, 192,  97],\n",
       "       [ 85,  23,  43, 141,  52,  56],\n",
       "       [ 25, 139,  64, 193, 193,  99],\n",
       "       [ 58,  91, 167, 116,  47, 142],\n",
       "       [ 80, 134,  41, 189,  64,  13],\n",
       "       [122,  76,  88,  34,  86,  76],\n",
       "       [191, 179,  74, 136, 173,  56],\n",
       "       [132,  89,  15,   4,  17, 186]])"
      ]
     },
     "execution_count": 27,
     "metadata": {},
     "output_type": "execute_result"
    }
   ],
   "source": [
    "arr2[::-1]"
   ]
  },
  {
   "cell_type": "code",
   "execution_count": 28,
   "id": "3c589fbd-cf2b-4256-84a8-1d70ed1331b0",
   "metadata": {},
   "outputs": [
    {
     "data": {
      "text/plain": [
       "array([[132,  89,  15,   4,  17, 186],\n",
       "       [191, 179,  74, 136, 173,  56],\n",
       "       [122,  76,  88,  34,  86,  76],\n",
       "       [ 80, 134,  41, 189,  64,  13],\n",
       "       [ 58,  91, 167, 116,  47, 142],\n",
       "       [ 25, 139,  64, 193, 193,  99],\n",
       "       [ 85,  23,  43, 141,  52,  56],\n",
       "       [181, 184, 129, 107, 192,  97],\n",
       "       [180, 106, 164, 145, 176, 149],\n",
       "       [133, 180, 177, 152, 127, 197]])"
      ]
     },
     "execution_count": 28,
     "metadata": {},
     "output_type": "execute_result"
    }
   ],
   "source": [
    "arr2 "
   ]
  },
  {
   "cell_type": "code",
   "execution_count": 29,
   "id": "a1db884d-3725-4e85-8b56-e2ac72fce722",
   "metadata": {},
   "outputs": [
    {
     "data": {
      "text/plain": [
       "197"
      ]
     },
     "execution_count": 29,
     "metadata": {},
     "output_type": "execute_result"
    }
   ],
   "source": [
    "arr2[-1,-1]"
   ]
  },
  {
   "cell_type": "code",
   "execution_count": 30,
   "id": "d60cc810-23bb-4388-95a7-82fdde23caad",
   "metadata": {},
   "outputs": [],
   "source": [
    "arr2[-1,-1]  = 1000"
   ]
  },
  {
   "cell_type": "code",
   "execution_count": 31,
   "id": "a79c8c45-4df4-44b2-99dd-deec65ed9604",
   "metadata": {},
   "outputs": [
    {
     "data": {
      "text/plain": [
       "1000"
      ]
     },
     "execution_count": 31,
     "metadata": {},
     "output_type": "execute_result"
    }
   ],
   "source": [
    "arr2[-1,-1]"
   ]
  },
  {
   "cell_type": "code",
   "execution_count": 32,
   "id": "966bf8db-6ff0-464d-9851-52a224566284",
   "metadata": {},
   "outputs": [
    {
     "data": {
      "text/plain": [
       "array([[ 132,   89,   15,    4,   17,  186],\n",
       "       [ 191,  179,   74,  136,  173,   56],\n",
       "       [ 122,   76,   88,   34,   86,   76],\n",
       "       [  80,  134,   41,  189,   64,   13],\n",
       "       [  58,   91,  167,  116,   47,  142],\n",
       "       [  25,  139,   64,  193,  193,   99],\n",
       "       [  85,   23,   43,  141,   52,   56],\n",
       "       [ 181,  184,  129,  107,  192,   97],\n",
       "       [ 180,  106,  164,  145,  176,  149],\n",
       "       [ 133,  180,  177,  152,  127, 1000]])"
      ]
     },
     "execution_count": 32,
     "metadata": {},
     "output_type": "execute_result"
    }
   ],
   "source": [
    "arr2 "
   ]
  },
  {
   "cell_type": "markdown",
   "id": "430772ad-be6c-47c8-96e4-7e00bf7bfb14",
   "metadata": {},
   "source": [
    "### comments\n",
    "dfkdfl ldfjdf ldfjdlfj dfl dl dlkfld "
   ]
  },
  {
   "cell_type": "code",
   "execution_count": 33,
   "id": "9bacd679-48eb-4e3f-bc02-2f25e7b79d01",
   "metadata": {},
   "outputs": [],
   "source": [
    "arr2[0,3]=500"
   ]
  },
  {
   "cell_type": "code",
   "execution_count": 34,
   "id": "feecda63-5b84-493a-ae9f-8c83acf01cf5",
   "metadata": {},
   "outputs": [
    {
     "data": {
      "text/plain": [
       "array([[ 132,   89,   15,  500,   17,  186],\n",
       "       [ 191,  179,   74,  136,  173,   56],\n",
       "       [ 122,   76,   88,   34,   86,   76],\n",
       "       [  80,  134,   41,  189,   64,   13],\n",
       "       [  58,   91,  167,  116,   47,  142],\n",
       "       [  25,  139,   64,  193,  193,   99],\n",
       "       [  85,   23,   43,  141,   52,   56],\n",
       "       [ 181,  184,  129,  107,  192,   97],\n",
       "       [ 180,  106,  164,  145,  176,  149],\n",
       "       [ 133,  180,  177,  152,  127, 1000]])"
      ]
     },
     "execution_count": 34,
     "metadata": {},
     "output_type": "execute_result"
    }
   ],
   "source": [
    "arr2"
   ]
  },
  {
   "cell_type": "code",
   "execution_count": null,
   "id": "e5b96f76-b282-4863-a91b-343b2d6d3c92",
   "metadata": {},
   "outputs": [],
   "source": [
    "arr2[-10,-3] =  500"
   ]
  },
  {
   "cell_type": "code",
   "execution_count": 37,
   "id": "d6d2e32c-4238-4195-93ae-49bcbf3f8364",
   "metadata": {},
   "outputs": [],
   "source": [
    "arr2[0][3]  =  8000"
   ]
  },
  {
   "cell_type": "code",
   "execution_count": 38,
   "id": "52dbe5e4-1e3e-42c5-b88b-012ca54ac6bd",
   "metadata": {},
   "outputs": [
    {
     "data": {
      "text/plain": [
       "array([[ 132,   89,   15, 8000,   17,  186],\n",
       "       [ 191,  179,   74,  136,  173,   56],\n",
       "       [ 122,   76,   88,   34,   86,   76],\n",
       "       [  80,  134,   41,  189,   64,   13],\n",
       "       [  58,   91,  167,  116,   47,  142],\n",
       "       [  25,  139,   64,  193,  193,   99],\n",
       "       [  85,   23,   43,  141,   52,   56],\n",
       "       [ 181,  184,  129,  107,  192,   97],\n",
       "       [ 180,  106,  164,  145,  176,  149],\n",
       "       [ 133,  180,  177,  152,  127, 1000]])"
      ]
     },
     "execution_count": 38,
     "metadata": {},
     "output_type": "execute_result"
    }
   ],
   "source": [
    "arr2 "
   ]
  },
  {
   "cell_type": "code",
   "execution_count": 1,
   "id": "1b2eadb0-966f-4efe-8c85-dfa17b0158ce",
   "metadata": {},
   "outputs": [],
   "source": [
    "import numpy as np "
   ]
  },
  {
   "cell_type": "code",
   "execution_count": 4,
   "id": "f7d47609-7dbb-4d9e-82fa-eba073d7b455",
   "metadata": {},
   "outputs": [
    {
     "data": {
      "text/plain": [
       "array([[[ 34, 103, 181,  70,  45],\n",
       "        [ 69,  95, 159,  32, 180],\n",
       "        [131, 194, 131,  31, 188],\n",
       "        [ 97,  49, 146, 106,  78],\n",
       "        [181, 178,  29, 146,  93],\n",
       "        [142, 155,  43, 180,  15],\n",
       "        [110, 148, 113,  69, 178],\n",
       "        [161,  97, 173, 131,  83],\n",
       "        [152,  95, 159,  38, 118],\n",
       "        [ 58,  53, 121,   4,  40]],\n",
       "\n",
       "       [[  1, 152, 175, 170,  86],\n",
       "        [166,  63, 124,  98, 164],\n",
       "        [185, 110,  99,  89, 122],\n",
       "        [195,  98, 159, 100, 129],\n",
       "        [126, 160, 126,  94,  35],\n",
       "        [  4, 169, 162, 101, 127],\n",
       "        [ 27,  81,  78,  12,  97],\n",
       "        [119, 179,  69,  66,  50],\n",
       "        [ 65, 157, 182, 193, 185],\n",
       "        [164, 104,   2,  75, 115]],\n",
       "\n",
       "       [[  5,   9, 169, 173, 132],\n",
       "        [ 39, 116,  82,  34, 186],\n",
       "        [149, 132,  37, 189, 115],\n",
       "        [ 94, 108,  94,  59,  22],\n",
       "        [149,  22, 165, 183,  55],\n",
       "        [ 80,   3,  55, 135,  35],\n",
       "        [184, 133,  85, 177,  89],\n",
       "        [142, 134,  65, 119, 164],\n",
       "        [ 25, 142, 158, 125, 178],\n",
       "        [ 19, 109, 159, 159, 131]],\n",
       "\n",
       "       [[132, 199,  62,  76, 162],\n",
       "        [189, 143, 182,   7,  93],\n",
       "        [143, 177,  48, 121, 191],\n",
       "        [ 66, 165,  17,  24, 154],\n",
       "        [115, 153, 132,  39, 144],\n",
       "        [130,  56,  71, 162,  74],\n",
       "        [ 88, 180,  64,  37,  23],\n",
       "        [ 21,  87, 183,   9, 118],\n",
       "        [ 95,  67,  69,  94,  92],\n",
       "        [ 40,  41, 165,  46,  55]],\n",
       "\n",
       "       [[ 16, 185,  20, 190,  79],\n",
       "        [ 41,  24, 109, 151,  92],\n",
       "        [ 93,  50,  11, 114, 105],\n",
       "        [ 63, 125,  10, 140,  85],\n",
       "        [136, 143,  11,  12,  42],\n",
       "        [ 30, 180, 149,  91,  59],\n",
       "        [140,  49,  82, 177, 130],\n",
       "        [161, 187,  64, 193, 199],\n",
       "        [ 62,  98,  88,  98, 133],\n",
       "        [173,   4,  26, 139, 167]]])"
      ]
     },
     "execution_count": 4,
     "metadata": {},
     "output_type": "execute_result"
    }
   ],
   "source": [
    "# 3D = [2d,2d,2d]\n",
    "\n",
    "arr3d = np.random.randint(1,200,(5,10,5))\n",
    "arr3d"
   ]
  },
  {
   "cell_type": "code",
   "execution_count": 5,
   "id": "298b2d36-49b7-4844-b959-155c1684d28a",
   "metadata": {},
   "outputs": [
    {
     "data": {
      "text/plain": [
       "(5, 10, 5)"
      ]
     },
     "execution_count": 5,
     "metadata": {},
     "output_type": "execute_result"
    }
   ],
   "source": [
    "arr3d.shape \n",
    "# (5, 10, 5) \n",
    "# 5  ==>  Tables \n",
    "# 10 ==>  Rows \n",
    "# 5  ==>  columns"
   ]
  },
  {
   "cell_type": "code",
   "execution_count": 6,
   "id": "23ee1473-98b2-4e26-8f61-a7103a09c726",
   "metadata": {},
   "outputs": [
    {
     "data": {
      "text/plain": [
       "3"
      ]
     },
     "execution_count": 6,
     "metadata": {},
     "output_type": "execute_result"
    }
   ],
   "source": [
    "arr3d.ndim "
   ]
  },
  {
   "cell_type": "code",
   "execution_count": 12,
   "id": "80d5c0cd-6bbe-453a-b2a2-bf54bbf52d9a",
   "metadata": {},
   "outputs": [
    {
     "data": {
      "text/plain": [
       "array([[ 34, 103, 181,  70,  45],\n",
       "       [ 69,  95, 159,  32, 180],\n",
       "       [131, 194, 131,  31, 188],\n",
       "       [ 97,  49, 146, 106,  78],\n",
       "       [181, 178,  29, 146,  93],\n",
       "       [142, 155,  43, 180,  15],\n",
       "       [110, 148, 113,  69, 178],\n",
       "       [161,  97, 173, 131,  83],\n",
       "       [152,  95, 159,  38, 118],\n",
       "       [ 58,  53, 121,   4,  40]])"
      ]
     },
     "execution_count": 12,
     "metadata": {},
     "output_type": "execute_result"
    }
   ],
   "source": [
    "arr3d[0]   # table "
   ]
  },
  {
   "cell_type": "code",
   "execution_count": 13,
   "id": "d93a34c1-1ddd-471b-aec8-aa6740cc16ee",
   "metadata": {},
   "outputs": [
    {
     "data": {
      "text/plain": [
       "array([[[ 34, 103, 181,  70,  45],\n",
       "        [ 69,  95, 159,  32, 180],\n",
       "        [131, 194, 131,  31, 188],\n",
       "        [ 97,  49, 146, 106,  78],\n",
       "        [181, 178,  29, 146,  93],\n",
       "        [142, 155,  43, 180,  15],\n",
       "        [110, 148, 113,  69, 178],\n",
       "        [161,  97, 173, 131,  83],\n",
       "        [152,  95, 159,  38, 118],\n",
       "        [ 58,  53, 121,   4,  40]],\n",
       "\n",
       "       [[  1, 152, 175, 170,  86],\n",
       "        [166,  63, 124,  98, 164],\n",
       "        [185, 110,  99,  89, 122],\n",
       "        [195,  98, 159, 100, 129],\n",
       "        [126, 160, 126,  94,  35],\n",
       "        [  4, 169, 162, 101, 127],\n",
       "        [ 27,  81,  78,  12,  97],\n",
       "        [119, 179,  69,  66,  50],\n",
       "        [ 65, 157, 182, 193, 185],\n",
       "        [164, 104,   2,  75, 115]],\n",
       "\n",
       "       [[  5,   9, 169, 173, 132],\n",
       "        [ 39, 116,  82,  34, 186],\n",
       "        [149, 132,  37, 189, 115],\n",
       "        [ 94, 108,  94,  59,  22],\n",
       "        [149,  22, 165, 183,  55],\n",
       "        [ 80,   3,  55, 135,  35],\n",
       "        [184, 133,  85, 177,  89],\n",
       "        [142, 134,  65, 119, 164],\n",
       "        [ 25, 142, 158, 125, 178],\n",
       "        [ 19, 109, 159, 159, 131]],\n",
       "\n",
       "       [[132, 199,  62,  76, 162],\n",
       "        [189, 143, 182,   7,  93],\n",
       "        [143, 177,  48, 121, 191],\n",
       "        [ 66, 165,  17,  24, 154],\n",
       "        [115, 153, 132,  39, 144],\n",
       "        [130,  56,  71, 162,  74],\n",
       "        [ 88, 180,  64,  37,  23],\n",
       "        [ 21,  87, 183,   9, 118],\n",
       "        [ 95,  67,  69,  94,  92],\n",
       "        [ 40,  41, 165,  46,  55]],\n",
       "\n",
       "       [[ 16, 185,  20, 190,  79],\n",
       "        [ 41,  24, 109, 151,  92],\n",
       "        [ 93,  50,  11, 114, 105],\n",
       "        [ 63, 125,  10, 140,  85],\n",
       "        [136, 143,  11,  12,  42],\n",
       "        [ 30, 180, 149,  91,  59],\n",
       "        [140,  49,  82, 177, 130],\n",
       "        [161, 187,  64, 193, 199],\n",
       "        [ 62,  98,  88,  98, 133],\n",
       "        [173,   4,  26, 139, 167]]])"
      ]
     },
     "execution_count": 13,
     "metadata": {},
     "output_type": "execute_result"
    }
   ],
   "source": [
    "arr3d"
   ]
  },
  {
   "cell_type": "code",
   "execution_count": 14,
   "id": "cd8405e2-fa17-495e-bdfd-c3b0040e1140",
   "metadata": {},
   "outputs": [
    {
     "data": {
      "text/plain": [
       "167"
      ]
     },
     "execution_count": 14,
     "metadata": {},
     "output_type": "execute_result"
    }
   ],
   "source": [
    "arr3d[-1,-1,-1]"
   ]
  },
  {
   "cell_type": "code",
   "execution_count": 17,
   "id": "6731418d-d55d-422b-a408-6c9e851612ca",
   "metadata": {},
   "outputs": [
    {
     "data": {
      "text/plain": [
       "array([ 0,  1,  2,  3,  4,  5,  6,  7,  8,  9, 10, 11, 12, 13, 14, 15, 16,\n",
       "       17, 18, 19, 20, 21, 22, 23, 24, 25, 26, 27, 28, 29, 30, 31, 32, 33,\n",
       "       34, 35, 36, 37, 38, 39, 40, 41, 42, 43, 44, 45, 46, 47, 48, 49, 50,\n",
       "       51, 52, 53, 54, 55, 56, 57, 58, 59])"
      ]
     },
     "execution_count": 17,
     "metadata": {},
     "output_type": "execute_result"
    }
   ],
   "source": [
    "arr = np.arange(60)\n",
    "arr "
   ]
  },
  {
   "cell_type": "code",
   "execution_count": 18,
   "id": "ec1fefc3-5b19-4f97-ab8d-7edf6b99814e",
   "metadata": {},
   "outputs": [
    {
     "data": {
      "text/plain": [
       "array([[ 0,  1,  2],\n",
       "       [ 3,  4,  5],\n",
       "       [ 6,  7,  8],\n",
       "       [ 9, 10, 11],\n",
       "       [12, 13, 14],\n",
       "       [15, 16, 17],\n",
       "       [18, 19, 20],\n",
       "       [21, 22, 23],\n",
       "       [24, 25, 26],\n",
       "       [27, 28, 29],\n",
       "       [30, 31, 32],\n",
       "       [33, 34, 35],\n",
       "       [36, 37, 38],\n",
       "       [39, 40, 41],\n",
       "       [42, 43, 44],\n",
       "       [45, 46, 47],\n",
       "       [48, 49, 50],\n",
       "       [51, 52, 53],\n",
       "       [54, 55, 56],\n",
       "       [57, 58, 59]])"
      ]
     },
     "execution_count": 18,
     "metadata": {},
     "output_type": "execute_result"
    }
   ],
   "source": [
    "arr.reshape(20,3)  # 20 , 3 "
   ]
  },
  {
   "cell_type": "code",
   "execution_count": 21,
   "id": "f3629797-5075-4bc0-9a3b-bef02bd90a79",
   "metadata": {},
   "outputs": [],
   "source": [
    "arr2 = arr.reshape(2,15,2)  "
   ]
  },
  {
   "cell_type": "code",
   "execution_count": 23,
   "id": "3e7ac867-bb4a-40e6-a40c-ffd9e90635e0",
   "metadata": {},
   "outputs": [
    {
     "data": {
      "text/plain": [
       "array([ 0,  1,  2,  3,  4,  5,  6,  7,  8,  9, 10, 11, 12, 13, 14, 15, 16,\n",
       "       17, 18, 19, 20, 21, 22, 23, 24, 25, 26, 27, 28, 29, 30, 31, 32, 33,\n",
       "       34, 35, 36, 37, 38, 39, 40, 41, 42, 43, 44, 45, 46, 47, 48, 49, 50,\n",
       "       51, 52, 53, 54, 55, 56, 57, 58, 59])"
      ]
     },
     "execution_count": 23,
     "metadata": {},
     "output_type": "execute_result"
    }
   ],
   "source": [
    "arr2.ravel()  "
   ]
  },
  {
   "cell_type": "code",
   "execution_count": 25,
   "id": "c530c7f6-69a0-43ed-a286-dfead5a8da97",
   "metadata": {},
   "outputs": [
    {
     "data": {
      "text/plain": [
       "array([ 0,  1,  2,  3,  4,  5,  6,  7,  8,  9, 10, 11, 12, 13, 14, 15, 16,\n",
       "       17, 18, 19, 20, 21, 22, 23, 24, 25, 26, 27, 28, 29, 30, 31, 32, 33,\n",
       "       34, 35, 36, 37, 38, 39, 40, 41, 42, 43, 44, 45, 46, 47, 48, 49, 50,\n",
       "       51, 52, 53, 54, 55, 56, 57, 58, 59])"
      ]
     },
     "execution_count": 25,
     "metadata": {},
     "output_type": "execute_result"
    }
   ],
   "source": [
    "arr2.flatten()"
   ]
  },
  {
   "cell_type": "code",
   "execution_count": 26,
   "id": "bf605339-30bb-48ff-85cd-cc20c15e72f0",
   "metadata": {},
   "outputs": [
    {
     "data": {
      "text/plain": [
       "array([[ 10,  95,  67],\n",
       "       [101, 166, 134],\n",
       "       [ 48,  62, 128],\n",
       "       [107, 172,  12],\n",
       "       [112,  65, 194]])"
      ]
     },
     "execution_count": 26,
     "metadata": {},
     "output_type": "execute_result"
    }
   ],
   "source": [
    "arr = np.random.randint(1,200,(5,3))\n",
    "arr "
   ]
  },
  {
   "cell_type": "code",
   "execution_count": 27,
   "id": "47ecbbe2-fad8-422c-9581-a54e8f0f2ca1",
   "metadata": {},
   "outputs": [
    {
     "data": {
      "text/plain": [
       "(5, 3)"
      ]
     },
     "execution_count": 27,
     "metadata": {},
     "output_type": "execute_result"
    }
   ],
   "source": [
    "arr.shape "
   ]
  },
  {
   "cell_type": "code",
   "execution_count": 28,
   "id": "96099b9b-d5b1-4b56-8cdc-cdfc4ca9dfca",
   "metadata": {},
   "outputs": [
    {
     "data": {
      "text/plain": [
       "array([[ 10, 101,  48, 107, 112],\n",
       "       [ 95, 166,  62, 172,  65],\n",
       "       [ 67, 134, 128,  12, 194]])"
      ]
     },
     "execution_count": 28,
     "metadata": {},
     "output_type": "execute_result"
    }
   ],
   "source": [
    "np.transpose(arr)"
   ]
  },
  {
   "cell_type": "code",
   "execution_count": 29,
   "id": "265948d5-4d33-4ff6-93c3-e890c5d76317",
   "metadata": {},
   "outputs": [
    {
     "data": {
      "text/plain": [
       "(3, 5)"
      ]
     },
     "execution_count": 29,
     "metadata": {},
     "output_type": "execute_result"
    }
   ],
   "source": [
    "np.transpose(arr).shape "
   ]
  },
  {
   "cell_type": "code",
   "execution_count": 31,
   "id": "babe1ec9-3547-47df-a8d1-f6b5935a2a8d",
   "metadata": {},
   "outputs": [
    {
     "data": {
      "text/plain": [
       "array([[ 10, 101,  48, 107, 112],\n",
       "       [ 95, 166,  62, 172,  65],\n",
       "       [ 67, 134, 128,  12, 194]])"
      ]
     },
     "execution_count": 31,
     "metadata": {},
     "output_type": "execute_result"
    }
   ],
   "source": [
    "arr.T "
   ]
  },
  {
   "cell_type": "code",
   "execution_count": 33,
   "id": "e6e6dfeb-286b-4aa7-a46a-c14937423fb9",
   "metadata": {},
   "outputs": [
    {
     "data": {
      "text/plain": [
       "array([ 10,  95,  67, 101, 166, 134,  48,  62, 128, 107, 172,  12, 112,\n",
       "        65, 194])"
      ]
     },
     "execution_count": 33,
     "metadata": {},
     "output_type": "execute_result"
    }
   ],
   "source": [
    "arr2= arr.ravel()\n",
    "arr2"
   ]
  },
  {
   "cell_type": "code",
   "execution_count": 38,
   "id": "53a7cb74-aa15-40cf-8ea7-b2af0c4e6a3b",
   "metadata": {},
   "outputs": [
    {
     "data": {
      "text/plain": [
       "98.2"
      ]
     },
     "execution_count": 38,
     "metadata": {},
     "output_type": "execute_result"
    }
   ],
   "source": [
    "arr2.mean()     #mean()    #max()  #min()"
   ]
  },
  {
   "cell_type": "code",
   "execution_count": 39,
   "id": "c2e54696-a08e-43e5-995b-6d68324d7cec",
   "metadata": {},
   "outputs": [
    {
     "data": {
      "text/plain": [
       "101.0"
      ]
     },
     "execution_count": 39,
     "metadata": {},
     "output_type": "execute_result"
    }
   ],
   "source": [
    "np.median(arr2)"
   ]
  },
  {
   "cell_type": "code",
   "execution_count": 41,
   "id": "8806ae19-b6ba-4ef3-9531-fdceb40ce265",
   "metadata": {},
   "outputs": [
    {
     "data": {
      "text/plain": [
       "array([9, 7, 8])"
      ]
     },
     "execution_count": 41,
     "metadata": {},
     "output_type": "execute_result"
    }
   ],
   "source": [
    "arr = np.array([9,7,8])\n",
    "arr "
   ]
  },
  {
   "cell_type": "code",
   "execution_count": 44,
   "id": "17257c78-a8a7-4429-993f-3571f0684d42",
   "metadata": {},
   "outputs": [
    {
     "data": {
      "text/plain": [
       "1"
      ]
     },
     "execution_count": 44,
     "metadata": {},
     "output_type": "execute_result"
    }
   ],
   "source": [
    "arr.argmin()"
   ]
  },
  {
   "cell_type": "code",
   "execution_count": 45,
   "id": "a6159e2b-d11f-4bee-9d0b-a61e70be86e0",
   "metadata": {},
   "outputs": [
    {
     "data": {
      "text/plain": [
       "0"
      ]
     },
     "execution_count": 45,
     "metadata": {},
     "output_type": "execute_result"
    }
   ],
   "source": [
    "arr.argmax()"
   ]
  },
  {
   "cell_type": "code",
   "execution_count": 46,
   "id": "fe588668-e8ec-4ffe-8f74-60849e42b420",
   "metadata": {},
   "outputs": [
    {
     "data": {
      "text/plain": [
       "array([9, 7, 8])"
      ]
     },
     "execution_count": 46,
     "metadata": {},
     "output_type": "execute_result"
    }
   ],
   "source": [
    "arr "
   ]
  },
  {
   "cell_type": "code",
   "execution_count": 47,
   "id": "313751a0-ec9f-4576-bb8e-57706d557861",
   "metadata": {},
   "outputs": [],
   "source": [
    "arr.sort()  # ascending order "
   ]
  },
  {
   "cell_type": "code",
   "execution_count": 48,
   "id": "c9927f76-46ac-44af-9dee-0f0827d1667d",
   "metadata": {},
   "outputs": [
    {
     "data": {
      "text/plain": [
       "array([7, 8, 9])"
      ]
     },
     "execution_count": 48,
     "metadata": {},
     "output_type": "execute_result"
    }
   ],
   "source": [
    "arr "
   ]
  },
  {
   "cell_type": "code",
   "execution_count": 49,
   "id": "9eeda21d-d4fb-4404-b2d2-0bddb58d2468",
   "metadata": {},
   "outputs": [
    {
     "data": {
      "text/plain": [
       "array([9, 8, 7])"
      ]
     },
     "execution_count": 49,
     "metadata": {},
     "output_type": "execute_result"
    }
   ],
   "source": [
    "arr[::-1]   # descending order "
   ]
  },
  {
   "cell_type": "code",
   "execution_count": 50,
   "id": "1b2bd844-f6be-46a4-9363-780fdf2a62a5",
   "metadata": {},
   "outputs": [
    {
     "data": {
      "text/plain": [
       "array([9, 7, 8])"
      ]
     },
     "execution_count": 50,
     "metadata": {},
     "output_type": "execute_result"
    }
   ],
   "source": [
    "arr = np.array([9,7,8])\n",
    "arr "
   ]
  },
  {
   "cell_type": "code",
   "execution_count": 52,
   "id": "e9a44bc0-c8c1-4b0b-aa6e-c27fa1686249",
   "metadata": {},
   "outputs": [
    {
     "data": {
      "text/plain": [
       "array([9, 7, 8])"
      ]
     },
     "execution_count": 52,
     "metadata": {},
     "output_type": "execute_result"
    }
   ],
   "source": [
    "arr "
   ]
  },
  {
   "cell_type": "code",
   "execution_count": 51,
   "id": "adabf6dc-092a-4774-aa97-cc30dcb2c9ac",
   "metadata": {},
   "outputs": [
    {
     "data": {
      "text/plain": [
       "array([1, 2, 0], dtype=int64)"
      ]
     },
     "execution_count": 51,
     "metadata": {},
     "output_type": "execute_result"
    }
   ],
   "source": [
    "arr.argsort()  # [7,8,9] "
   ]
  },
  {
   "cell_type": "code",
   "execution_count": 53,
   "id": "68aff0ba-9a87-4b05-8c88-0de121981051",
   "metadata": {},
   "outputs": [],
   "source": [
    "import pandas as pd "
   ]
  },
  {
   "cell_type": "markdown",
   "id": "5ca905b8-512c-48e4-ac12-a013ecd401e3",
   "metadata": {},
   "source": [
    "<!-- <img src=\"\"> -->"
   ]
  },
  {
   "cell_type": "code",
   "execution_count": null,
   "id": "64430714-c1f1-432d-884f-6a7649d52813",
   "metadata": {},
   "outputs": [],
   "source": []
  },
  {
   "cell_type": "code",
   "execution_count": null,
   "id": "fa9c5ffe-0c36-49b9-9675-12d124c1c222",
   "metadata": {},
   "outputs": [],
   "source": [
    "### 5 july Numpy noteboot upload on linkedin and github"
   ]
  }
 ],
 "metadata": {
  "kernelspec": {
   "display_name": "Python 3 (ipykernel)",
   "language": "python",
   "name": "python3"
  },
  "language_info": {
   "codemirror_mode": {
    "name": "ipython",
    "version": 3
   },
   "file_extension": ".py",
   "mimetype": "text/x-python",
   "name": "python",
   "nbconvert_exporter": "python",
   "pygments_lexer": "ipython3",
   "version": "3.11.5"
  }
 },
 "nbformat": 4,
 "nbformat_minor": 5
}
