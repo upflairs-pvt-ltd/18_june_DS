{
 "cells": [
  {
   "cell_type": "code",
   "execution_count": 2,
   "id": "08328467-6071-40a4-9c46-f4c9b9d56860",
   "metadata": {},
   "outputs": [],
   "source": [
    "import pandas as pd \n",
    "import numpy as np "
   ]
  },
  {
   "cell_type": "code",
   "execution_count": 3,
   "id": "69a2655c-c74b-4d98-ba45-3a01e541b2a7",
   "metadata": {},
   "outputs": [
    {
     "data": {
      "text/plain": [
       "array([ 35, 179, 264, 173, 148, 256, 144,  42, 149, 103, 185,  56,  74,\n",
       "       143, 102, 108,  37,  53,  89, 200,  73, 224,  19,  15,  93, 211,\n",
       "       240, 208, 139, 163, 283,  99, 263, 197, 212, 196,  25, 165, 296,\n",
       "        14, 158,  46, 232,  29, 240, 288,  42, 198, 146,  54, 215, 108,\n",
       "         3,  76, 121, 237, 135, 132, 148, 213, 135, 190, 238, 200, 111,\n",
       "       235, 208, 182,  36, 297,   1, 183,  97, 267,  70,  30,  52,  22,\n",
       "       168, 177, 287, 133, 101, 231,  31, 178, 112, 188,  84, 279, 222,\n",
       "       260, 113,   8, 212,  16, 148, 217,   7, 288, 204, 212, 162, 141,\n",
       "       229, 198, 244, 229, 180,  71, 265, 199, 164, 174,   2, 149,  46,\n",
       "       166,  41, 194, 251, 261, 227, 122,  95, 207,  74,  10, 271, 194,\n",
       "       114,  26,  64, 211,  70,  66, 248, 119,  83, 140, 197, 297, 115,\n",
       "       170,  56,  91,  22, 139,   3,   9, 181,  37,  87, 145,   2,  22,\n",
       "         7, 184,  70, 263,  18, 121, 209, 217,  97, 105,  57, 199, 193,\n",
       "         3, 154,  87, 144, 275, 293, 232, 150, 166,  99, 296, 224,  45,\n",
       "       214,  49, 139,   3, 175, 232, 117, 262, 192, 212, 232,  80,  47,\n",
       "        34, 166, 290, 107, 149,  19, 214, 191, 290, 207,  89,  43,  23,\n",
       "       184, 241, 224,  13,  88, 211,  59,  17, 155, 226, 276, 222, 274,\n",
       "       163, 121,  70, 182, 201, 232, 250, 172, 255, 174, 296, 256,   5,\n",
       "       209,  91, 247, 186, 123, 174, 264, 179,  89,  94,  77, 172, 177,\n",
       "        30, 100, 296,  86, 116, 192, 218, 211, 275,  16, 172,   7, 194,\n",
       "        19, 295, 274, 228,  13, 170, 164, 186,   1, 103,  59,  87,  10,\n",
       "       230, 109, 228, 272, 209,  26, 275,  53, 212,  13, 254, 102, 198,\n",
       "       122,  68,  94, 213, 274,  92, 165, 280,  58, 211, 157, 115,  28,\n",
       "        45, 149, 122, 135, 280, 160, 174, 179, 197,  23, 106, 114, 114,\n",
       "       244, 238,  50,  82,  22,  48,  96, 100,  49, 289, 241, 291, 292,\n",
       "         1,  38, 238, 149,  99, 296, 262,  77,  16, 186,  32, 244,  91,\n",
       "       174, 133,  61, 299, 203,  63, 110,  19,  46, 112, 239, 141, 136,\n",
       "       241, 122, 149,  67, 123,  29, 211, 272, 240, 169, 187, 136,  27,\n",
       "       125,  85, 126,  33, 230, 161, 182, 294,  14,  79, 149, 175,  93,\n",
       "        70, 256, 256, 209,  95, 265,  37, 241, 134, 231,  73, 120,  61,\n",
       "       283, 233,  15,  58, 110, 222,  44, 289,  72, 147, 279, 255,  32,\n",
       "       286, 116, 169, 106, 168, 188, 241, 161,  67, 219, 123,   4, 200,\n",
       "       266, 140,  29,  84,  63, 197,   9,  91, 113, 120, 154, 186, 279,\n",
       "       238, 131, 155, 277, 146, 249, 102,   5, 106, 191, 201,  60,  80,\n",
       "       124, 229, 141, 280,  56, 160, 248, 203, 143, 139, 169,   4, 207,\n",
       "        91, 298,  97, 277,  98, 284,  23, 253, 157,  11, 108,  39, 246,\n",
       "       181, 145,  68,  80,  47,  50,  69, 295, 265, 157,  31,  85, 190,\n",
       "       168,  61,  16, 165, 159,   2,  29, 181, 282,   5, 207,  68, 154,\n",
       "       282,  57, 148, 171, 223, 242])"
      ]
     },
     "execution_count": 3,
     "metadata": {},
     "output_type": "execute_result"
    }
   ],
   "source": [
    "arr = np.random.randint(1,300,500)\n",
    "arr\n",
    "\n",
    "# find out the average of those elements that are greater than 50 and less than 150 \n",
    "# and also return the no. of elements that satisfie our condition "
   ]
  },
  {
   "cell_type": "code",
   "execution_count": 6,
   "id": "89476ffc-0296-4a60-b67b-348b6954a1d2",
   "metadata": {},
   "outputs": [
    {
     "data": {
      "text/plain": [
       "{'Name': ['Rishi', 'Harshit', 'kartik', 'yash'],\n",
       " 'Subject': ['physics', 'chemistry', 'physics', 'computer science'],\n",
       " 'college': ['poornima', 'biet', 'lord', 'jecrc']}"
      ]
     },
     "execution_count": 6,
     "metadata": {},
     "output_type": "execute_result"
    }
   ],
   "source": [
    "# Data frame create using dictionary \n",
    "\n",
    "data = {\"Name\":['Rishi','Harshit','kartik','yash'],\n",
    "       \"Subject\":['physics','chemistry' , 'physics','computer science'],\n",
    "       \"college\":['poornima','biet','lord','jecrc']}\n",
    "\n",
    "data "
   ]
  },
  {
   "cell_type": "code",
   "execution_count": 5,
   "id": "7b2d5da0-95f5-4d2d-9409-0d01f27fcd3f",
   "metadata": {},
   "outputs": [
    {
     "data": {
      "text/html": [
       "<div>\n",
       "<style scoped>\n",
       "    .dataframe tbody tr th:only-of-type {\n",
       "        vertical-align: middle;\n",
       "    }\n",
       "\n",
       "    .dataframe tbody tr th {\n",
       "        vertical-align: top;\n",
       "    }\n",
       "\n",
       "    .dataframe thead th {\n",
       "        text-align: right;\n",
       "    }\n",
       "</style>\n",
       "<table border=\"1\" class=\"dataframe\">\n",
       "  <thead>\n",
       "    <tr style=\"text-align: right;\">\n",
       "      <th></th>\n",
       "      <th>Name</th>\n",
       "      <th>Subject</th>\n",
       "      <th>college</th>\n",
       "    </tr>\n",
       "  </thead>\n",
       "  <tbody>\n",
       "    <tr>\n",
       "      <th>0</th>\n",
       "      <td>Rishi</td>\n",
       "      <td>physics</td>\n",
       "      <td>poornima</td>\n",
       "    </tr>\n",
       "    <tr>\n",
       "      <th>1</th>\n",
       "      <td>Harshit</td>\n",
       "      <td>chemistry</td>\n",
       "      <td>biet</td>\n",
       "    </tr>\n",
       "    <tr>\n",
       "      <th>2</th>\n",
       "      <td>kartik</td>\n",
       "      <td>physics</td>\n",
       "      <td>lord</td>\n",
       "    </tr>\n",
       "    <tr>\n",
       "      <th>3</th>\n",
       "      <td>yash</td>\n",
       "      <td>computer science</td>\n",
       "      <td>jecrc</td>\n",
       "    </tr>\n",
       "  </tbody>\n",
       "</table>\n",
       "</div>"
      ],
      "text/plain": [
       "      Name           Subject   college\n",
       "0    Rishi           physics  poornima\n",
       "1  Harshit         chemistry      biet\n",
       "2   kartik           physics      lord\n",
       "3     yash  computer science     jecrc"
      ]
     },
     "execution_count": 5,
     "metadata": {},
     "output_type": "execute_result"
    }
   ],
   "source": [
    "df = pd.DataFrame(data)\n",
    "df "
   ]
  },
  {
   "cell_type": "code",
   "execution_count": 8,
   "id": "349119c8-2761-4bb9-98d5-63b23e581ebd",
   "metadata": {},
   "outputs": [
    {
     "data": {
      "text/plain": [
       "pandas.core.frame.DataFrame"
      ]
     },
     "execution_count": 8,
     "metadata": {},
     "output_type": "execute_result"
    }
   ],
   "source": [
    "type(df)"
   ]
  },
  {
   "cell_type": "code",
   "execution_count": 10,
   "id": "7cc0bff6-0f32-49e6-b488-ff770f5113cf",
   "metadata": {},
   "outputs": [
    {
     "data": {
      "text/plain": [
       "0      Rishi\n",
       "1    Harshit\n",
       "2     kartik\n",
       "3       yash\n",
       "Name: Name, dtype: object"
      ]
     },
     "execution_count": 10,
     "metadata": {},
     "output_type": "execute_result"
    }
   ],
   "source": [
    "df['Name']"
   ]
  },
  {
   "cell_type": "code",
   "execution_count": 11,
   "id": "15042058-6a39-44fb-a22a-c0d1bbab1e23",
   "metadata": {},
   "outputs": [
    {
     "data": {
      "text/plain": [
       "pandas.core.series.Series"
      ]
     },
     "execution_count": 11,
     "metadata": {},
     "output_type": "execute_result"
    }
   ],
   "source": [
    "type(df['Name'])"
   ]
  },
  {
   "cell_type": "code",
   "execution_count": null,
   "id": "5acc80a7-16a2-43d0-9c9b-b92c66c27b79",
   "metadata": {},
   "outputs": [],
   "source": []
  },
  {
   "cell_type": "code",
   "execution_count": null,
   "id": "6595ec39-b991-40b9-9618-498e0f4bd783",
   "metadata": {},
   "outputs": [],
   "source": []
  }
 ],
 "metadata": {
  "kernelspec": {
   "display_name": "Python 3 (ipykernel)",
   "language": "python",
   "name": "python3"
  },
  "language_info": {
   "codemirror_mode": {
    "name": "ipython",
    "version": 3
   },
   "file_extension": ".py",
   "mimetype": "text/x-python",
   "name": "python",
   "nbconvert_exporter": "python",
   "pygments_lexer": "ipython3",
   "version": "3.11.5"
  }
 },
 "nbformat": 4,
 "nbformat_minor": 5
}
