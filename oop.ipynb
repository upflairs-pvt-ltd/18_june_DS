{
 "cells": [
  {
   "cell_type": "code",
   "execution_count": 1,
   "metadata": {},
   "outputs": [
    {
     "name": "stdout",
     "output_type": "stream",
     "text": [
      "hello world\n"
     ]
    }
   ],
   "source": [
    "print(\"hello world\")"
   ]
  },
  {
   "cell_type": "markdown",
   "metadata": {},
   "source": []
  },
  {
   "cell_type": "markdown",
   "metadata": {},
   "source": [
    "### Object oriented programing "
   ]
  },
  {
   "cell_type": "code",
   "execution_count": 11,
   "metadata": {},
   "outputs": [],
   "source": [
    "class student:...\n",
    "     "
   ]
  },
  {
   "cell_type": "code",
   "execution_count": 23,
   "metadata": {},
   "outputs": [],
   "source": [
    "class Student:\n",
    "    # properties \n",
    "    # class variable \n",
    "     student_names = ['mohit','rohit','jasprit','ronak']\n",
    "     student_class = 3 \n",
    "     student_branch = \"computer science engineering\" \n",
    "     college_name = \"IET Lucknow\""
   ]
  },
  {
   "cell_type": "code",
   "execution_count": 30,
   "metadata": {},
   "outputs": [
    {
     "data": {
      "text/plain": [
       "'computer science engineering'"
      ]
     },
     "execution_count": 30,
     "metadata": {},
     "output_type": "execute_result"
    }
   ],
   "source": [
    "class_name.variable \n",
    "Student.student_branch"
   ]
  },
  {
   "cell_type": "code",
   "execution_count": 25,
   "metadata": {},
   "outputs": [],
   "source": [
    "obj = Student()  # object or intance initilaization "
   ]
  },
  {
   "cell_type": "code",
   "execution_count": 26,
   "metadata": {},
   "outputs": [
    {
     "data": {
      "text/plain": [
       "['mohit', 'rohit', 'jasprit', 'ronak']"
      ]
     },
     "execution_count": 26,
     "metadata": {},
     "output_type": "execute_result"
    }
   ],
   "source": [
    "obj.student_names"
   ]
  },
  {
   "cell_type": "code",
   "execution_count": 29,
   "metadata": {},
   "outputs": [
    {
     "data": {
      "text/plain": [
       "'computer science engineering'"
      ]
     },
     "execution_count": 29,
     "metadata": {},
     "output_type": "execute_result"
    }
   ],
   "source": [
    "obj.student_branch"
   ]
  },
  {
   "cell_type": "code",
   "execution_count": 50,
   "metadata": {},
   "outputs": [],
   "source": [
    "# instance variable    # R \n",
    "class Student:\n",
    "    # class variable \n",
    "     college_name = \"IET Lucknow\"\n",
    "\n",
    "     # constructor to create or initialaize  instance variable \n",
    "     def __init__(self):\n",
    "        # instance variable \n",
    "        self.student_names = ['mohit','rohit','jasprit','ronak']\n",
    "        self.student_class = 3 \n",
    "        self.student_branch = \"computer science engineering\"\n",
    "        print(\"Constructor executed\")\n",
    "\n",
    "\n",
    "\n",
    "        "
   ]
  },
  {
   "cell_type": "code",
   "execution_count": 54,
   "metadata": {},
   "outputs": [
    {
     "data": {
      "text/plain": [
       "'IET Lucknow'"
      ]
     },
     "execution_count": 54,
     "metadata": {},
     "output_type": "execute_result"
    }
   ],
   "source": [
    "stud_obj.college_name"
   ]
  },
  {
   "cell_type": "code",
   "execution_count": 53,
   "metadata": {},
   "outputs": [
    {
     "name": "stdout",
     "output_type": "stream",
     "text": [
      "Constructor executed\n"
     ]
    }
   ],
   "source": [
    "stud_obj = Student()"
   ]
  },
  {
   "cell_type": "code",
   "execution_count": 44,
   "metadata": {},
   "outputs": [
    {
     "data": {
      "text/plain": [
       "'computer science engineering'"
      ]
     },
     "execution_count": 44,
     "metadata": {},
     "output_type": "execute_result"
    }
   ],
   "source": [
    "stud_obj.student_branch"
   ]
  },
  {
   "cell_type": "code",
   "execution_count": 46,
   "metadata": {},
   "outputs": [],
   "source": [
    "stud_obj.student_branch = \"Information technology\""
   ]
  },
  {
   "cell_type": "code",
   "execution_count": 47,
   "metadata": {},
   "outputs": [
    {
     "data": {
      "text/plain": [
       "'Information technology'"
      ]
     },
     "execution_count": 47,
     "metadata": {},
     "output_type": "execute_result"
    }
   ],
   "source": [
    "stud_obj.student_branch"
   ]
  },
  {
   "cell_type": "code",
   "execution_count": 48,
   "metadata": {},
   "outputs": [
    {
     "name": "stdout",
     "output_type": "stream",
     "text": [
      "Constructor executed\n"
     ]
    }
   ],
   "source": [
    "stud_obje2 = Student()   \n"
   ]
  },
  {
   "cell_type": "code",
   "execution_count": 49,
   "metadata": {},
   "outputs": [
    {
     "data": {
      "text/plain": [
       "'computer science engineering'"
      ]
     },
     "execution_count": 49,
     "metadata": {},
     "output_type": "execute_result"
    }
   ],
   "source": [
    "stud_obje2.student_branch"
   ]
  },
  {
   "cell_type": "code",
   "execution_count": 43,
   "metadata": {},
   "outputs": [
    {
     "data": {
      "text/plain": [
       "20"
      ]
     },
     "execution_count": 43,
     "metadata": {},
     "output_type": "execute_result"
    }
   ],
   "source": [
    "obj.var = 20\n",
    "obj.var"
   ]
  },
  {
   "cell_type": "code",
   "execution_count": null,
   "metadata": {},
   "outputs": [],
   "source": [
    "# constructor it is a special kind of function or method,\n",
    "# you dont need to call the constructor , constructor executor when you will create an object .\n",
    "\n"
   ]
  },
  {
   "cell_type": "code",
   "execution_count": null,
   "metadata": {},
   "outputs": [],
   "source": []
  },
  {
   "cell_type": "code",
   "execution_count": null,
   "metadata": {},
   "outputs": [],
   "source": [
    "def __init__():\n",
    "    return a + b\n",
    "\n",
    "# calling  "
   ]
  },
  {
   "cell_type": "code",
   "execution_count": null,
   "metadata": {},
   "outputs": [],
   "source": []
  },
  {
   "cell_type": "code",
   "execution_count": null,
   "metadata": {},
   "outputs": [],
   "source": [
    "for(int i=0;i<=10;i++){\n",
    "    block of code \n",
    "}"
   ]
  },
  {
   "cell_type": "code",
   "execution_count": null,
   "metadata": {},
   "outputs": [],
   "source": [
    "for i in range(10):\n",
    "    block of code "
   ]
  },
  {
   "cell_type": "code",
   "execution_count": null,
   "metadata": {},
   "outputs": [],
   "source": []
  },
  {
   "cell_type": "code",
   "execution_count": 55,
   "metadata": {},
   "outputs": [],
   "source": [
    "# instance variable    # R \n",
    "class Student:\n",
    "    # class variable \n",
    "     college_name = \"IET Lucknow\"\n",
    "\n",
    "     # constructor to create or initialaize  instance variable \n",
    "     def __init__(self,name,clas,branch,marks):\n",
    "        # instance variable \n",
    "        self.student_names = name  # list\n",
    "        self.student_class = clas \n",
    "        self.student_branch = branch\n",
    "        self.student_marks = marks\n",
    "        print(\"Constructor executed\")\n",
    "\n",
    "    #functions or methods \n",
    "     def no_of_student(self):\n",
    "        count = len(self.student_names)\n",
    "        print(\"Your no of student is : \",count) \n",
    "\n",
    "     def my_len(self):\n",
    "         count = 0 \n",
    "         for item in self.student_names: \n",
    "             count = count + 1 \n",
    "         print(\"Your no of student is : \",count) \n",
    "\n",
    "\n",
    "\n",
    "     def pass_or_fail_program(self):  \n",
    "         # marks >= 30 == Pass else Fail\n",
    "         No_of_fail_student = 0\n",
    "         NO_of_Pass_student = 0\n",
    "         for item in  self.student_marks: \n",
    "             if item >=30 :\n",
    "                 print('PASS : ',item)\n",
    "                 NO_of_Pass_student += 1\n",
    "             else:\n",
    "                 print(\"FAIL : \",item)\n",
    "                 No_of_fail_student += 1 \n",
    "\n",
    "\n",
    "         print(\"your fail student is : \", No_of_fail_student)\n",
    "         print(\"Your pass student is : \" , NO_of_Pass_student)\n",
    "    \n",
    "        \n"
   ]
  },
  {
   "cell_type": "code",
   "execution_count": 56,
   "metadata": {
    "scrolled": true
   },
   "outputs": [
    {
     "name": "stdout",
     "output_type": "stream",
     "text": [
      "Constructor executed\n",
      "Constructor executed\n",
      "Constructor executed\n"
     ]
    }
   ],
   "source": [
    "first_year = Student(name=['rohit','mohit'],clas=1,branch='CSE',marks=[4,74,5,6,74,58,45,6,5,5,2,5,74,58,14,2,53,6,45,46,2])\n",
    "second_year = Student(name=['rakesh','rocky','motu','patlu'],clas=2,branch='CSE',marks=[4,74,5,6,74,58,45,6,5,5,2,5,74,58,14,2,53,6,45,46,2])\n",
    "third_year = Student(name=['pappu','bhola'],clas=3,branch='CSE',marks=[4,74,5,6,74,58,45,6,5,5,2,5,74,58,14,2,53,6,45,46,2])"
   ]
  },
  {
   "cell_type": "code",
   "execution_count": 42,
   "metadata": {},
   "outputs": [
    {
     "name": "stdout",
     "output_type": "stream",
     "text": [
      "Your no of student is :  2\n"
     ]
    }
   ],
   "source": [
    "third_year.no_of_student()"
   ]
  },
  {
   "cell_type": "code",
   "execution_count": 44,
   "metadata": {},
   "outputs": [
    {
     "name": "stdout",
     "output_type": "stream",
     "text": [
      "Your no of student is :  4\n"
     ]
    }
   ],
   "source": [
    "second_year.my_len()"
   ]
  },
  {
   "cell_type": "code",
   "execution_count": 57,
   "metadata": {},
   "outputs": [
    {
     "name": "stdout",
     "output_type": "stream",
     "text": [
      "FAIL :  4\n",
      "PASS :  74\n",
      "FAIL :  5\n",
      "FAIL :  6\n",
      "PASS :  74\n",
      "PASS :  58\n",
      "PASS :  45\n",
      "FAIL :  6\n",
      "FAIL :  5\n",
      "FAIL :  5\n",
      "FAIL :  2\n",
      "FAIL :  5\n",
      "PASS :  74\n",
      "PASS :  58\n",
      "FAIL :  14\n",
      "FAIL :  2\n",
      "PASS :  53\n",
      "FAIL :  6\n",
      "PASS :  45\n",
      "PASS :  46\n",
      "FAIL :  2\n",
      "your fail student is :  12\n",
      "Your pass student is :  9\n"
     ]
    }
   ],
   "source": [
    "first_year.pass_or_fail_program()"
   ]
  },
  {
   "cell_type": "code",
   "execution_count": null,
   "metadata": {},
   "outputs": [],
   "source": []
  },
  {
   "cell_type": "code",
   "execution_count": null,
   "metadata": {},
   "outputs": [],
   "source": []
  },
  {
   "cell_type": "code",
   "execution_count": null,
   "metadata": {},
   "outputs": [],
   "source": []
  },
  {
   "cell_type": "code",
   "execution_count": 15,
   "metadata": {},
   "outputs": [
    {
     "name": "stdout",
     "output_type": "stream",
     "text": [
      "1\n",
      "2\n",
      "3\n"
     ]
    }
   ],
   "source": [
    "print(first_year.student_class)\n",
    "print(second_year.student_class)\n",
    "print(third_year.student_class)\n"
   ]
  },
  {
   "cell_type": "code",
   "execution_count": 18,
   "metadata": {},
   "outputs": [
    {
     "data": {
      "text/plain": [
       "['rohit', 'mohit']"
      ]
     },
     "execution_count": 18,
     "metadata": {},
     "output_type": "execute_result"
    }
   ],
   "source": [
    "first_year.student_names"
   ]
  },
  {
   "cell_type": "code",
   "execution_count": 25,
   "metadata": {},
   "outputs": [
    {
     "data": {
      "text/plain": [
       "4"
      ]
     },
     "execution_count": 25,
     "metadata": {},
     "output_type": "execute_result"
    }
   ],
   "source": [
    "len(second_year.student_names)"
   ]
  },
  {
   "cell_type": "code",
   "execution_count": 29,
   "metadata": {},
   "outputs": [
    {
     "data": {
      "text/plain": [
       "['rakesh', 'rocky', 'motu', 'patlu']"
      ]
     },
     "execution_count": 29,
     "metadata": {},
     "output_type": "execute_result"
    }
   ],
   "source": [
    "second_year.student_names  # obj.var_name   # s"
   ]
  },
  {
   "cell_type": "code",
   "execution_count": null,
   "metadata": {},
   "outputs": [],
   "source": []
  },
  {
   "cell_type": "code",
   "execution_count": null,
   "metadata": {},
   "outputs": [],
   "source": []
  },
  {
   "cell_type": "code",
   "execution_count": null,
   "metadata": {},
   "outputs": [],
   "source": []
  },
  {
   "cell_type": "code",
   "execution_count": null,
   "metadata": {},
   "outputs": [],
   "source": []
  },
  {
   "cell_type": "code",
   "execution_count": null,
   "metadata": {},
   "outputs": [],
   "source": []
  },
  {
   "cell_type": "code",
   "execution_count": null,
   "metadata": {},
   "outputs": [],
   "source": []
  },
  {
   "cell_type": "code",
   "execution_count": null,
   "metadata": {},
   "outputs": [],
   "source": []
  },
  {
   "cell_type": "code",
   "execution_count": null,
   "metadata": {},
   "outputs": [],
   "source": []
  },
  {
   "cell_type": "code",
   "execution_count": null,
   "metadata": {},
   "outputs": [],
   "source": []
  }
 ],
 "metadata": {
  "kernelspec": {
   "display_name": "Python 3 (ipykernel)",
   "language": "python",
   "name": "python3"
  },
  "language_info": {
   "codemirror_mode": {
    "name": "ipython",
    "version": 3
   },
   "file_extension": ".py",
   "mimetype": "text/x-python",
   "name": "python",
   "nbconvert_exporter": "python",
   "pygments_lexer": "ipython3",
   "version": "3.11.5"
  }
 },
 "nbformat": 4,
 "nbformat_minor": 4
}
