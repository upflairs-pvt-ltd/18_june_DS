{
 "cells": [
  {
   "cell_type": "markdown",
   "id": "3c2bfb9f-6f28-4ca3-9025-0b19ef0ec721",
   "metadata": {},
   "source": [
    "### Data visualaization using matplotlib "
   ]
  },
  {
   "cell_type": "code",
   "execution_count": 2,
   "id": "6df3acd5-4957-48c4-9345-1c0e48a12c93",
   "metadata": {},
   "outputs": [
    {
     "name": "stdout",
     "output_type": "stream",
     "text": [
      "Imported\n"
     ]
    }
   ],
   "source": [
    "import pandas as pd \n",
    "import numpy as np \n",
    "import matplotlib.pyplot as plt\n",
    "print(\"Imported\")"
   ]
  },
  {
   "cell_type": "code",
   "execution_count": null,
   "id": "52c8370c-682b-42b8-aad1-76afe2637264",
   "metadata": {},
   "outputs": [],
   "source": [
    "## lineplot\n",
    "\n"
   ]
  }
 ],
 "metadata": {
  "kernelspec": {
   "display_name": "Python 3 (ipykernel)",
   "language": "python",
   "name": "python3"
  },
  "language_info": {
   "codemirror_mode": {
    "name": "ipython",
    "version": 3
   },
   "file_extension": ".py",
   "mimetype": "text/x-python",
   "name": "python",
   "nbconvert_exporter": "python",
   "pygments_lexer": "ipython3",
   "version": "3.11.5"
  }
 },
 "nbformat": 4,
 "nbformat_minor": 5
}
